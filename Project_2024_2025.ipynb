{
  "cells": [
    {
      "cell_type": "code",
      "execution_count": 45,
      "metadata": {
        "colab": {
          "base_uri": "https://localhost:8080/"
        },
        "id": "0OzjPtTXK3Xb",
        "outputId": "9092ffc0-bb61-4d61-b46d-7e63fce7f33d"
      },
      "outputs": [
        {
          "name": "stdout",
          "output_type": "stream",
          "text": [
            "Requirement already satisfied: pyriemann in c:\\users\\pavel\\anaconda3\\envs\\sfml\\lib\\site-packages (0.8)\n",
            "Requirement already satisfied: numpy>=2.0.0 in c:\\users\\pavel\\anaconda3\\envs\\sfml\\lib\\site-packages (from pyriemann) (2.2.3)\n",
            "Requirement already satisfied: scipy in c:\\users\\pavel\\anaconda3\\envs\\sfml\\lib\\site-packages (from pyriemann) (1.15.1)\n",
            "Requirement already satisfied: scikit-learn>=0.24 in c:\\users\\pavel\\anaconda3\\envs\\sfml\\lib\\site-packages (from pyriemann) (1.6.1)\n",
            "Requirement already satisfied: joblib in c:\\users\\pavel\\anaconda3\\envs\\sfml\\lib\\site-packages (from pyriemann) (1.4.2)\n",
            "Requirement already satisfied: matplotlib in c:\\users\\pavel\\anaconda3\\envs\\sfml\\lib\\site-packages (from pyriemann) (3.10.0)\n",
            "Requirement already satisfied: threadpoolctl>=3.1.0 in c:\\users\\pavel\\anaconda3\\envs\\sfml\\lib\\site-packages (from scikit-learn>=0.24->pyriemann) (3.5.0)\n",
            "Requirement already satisfied: contourpy>=1.0.1 in c:\\users\\pavel\\anaconda3\\envs\\sfml\\lib\\site-packages (from matplotlib->pyriemann) (1.3.1)\n",
            "Requirement already satisfied: cycler>=0.10 in c:\\users\\pavel\\anaconda3\\envs\\sfml\\lib\\site-packages (from matplotlib->pyriemann) (0.12.1)\n",
            "Requirement already satisfied: fonttools>=4.22.0 in c:\\users\\pavel\\anaconda3\\envs\\sfml\\lib\\site-packages (from matplotlib->pyriemann) (4.56.0)\n",
            "Requirement already satisfied: kiwisolver>=1.3.1 in c:\\users\\pavel\\anaconda3\\envs\\sfml\\lib\\site-packages (from matplotlib->pyriemann) (1.4.8)\n",
            "Requirement already satisfied: packaging>=20.0 in c:\\users\\pavel\\appdata\\roaming\\python\\python312\\site-packages (from matplotlib->pyriemann) (24.1)\n",
            "Requirement already satisfied: pillow>=8 in c:\\users\\pavel\\anaconda3\\envs\\sfml\\lib\\site-packages (from matplotlib->pyriemann) (11.1.0)\n",
            "Requirement already satisfied: pyparsing>=2.3.1 in c:\\users\\pavel\\anaconda3\\envs\\sfml\\lib\\site-packages (from matplotlib->pyriemann) (3.2.1)\n",
            "Requirement already satisfied: python-dateutil>=2.7 in c:\\users\\pavel\\appdata\\roaming\\python\\python312\\site-packages (from matplotlib->pyriemann) (2.9.0.post0)\n",
            "Requirement already satisfied: six>=1.5 in c:\\users\\pavel\\appdata\\roaming\\python\\python312\\site-packages (from python-dateutil>=2.7->matplotlib->pyriemann) (1.16.0)\n"
          ]
        }
      ],
      "source": [
        "!pip install pyriemann\n",
        "import numpy as np\n",
        "from numpy.lib.stride_tricks import sliding_window_view\n",
        "from pyriemann.estimation import Covariances\n",
        "from pyriemann.tangentspace import TangentSpace\n",
        "from sklearn.pipeline import Pipeline\n",
        "from sklearn.linear_model import Ridge\n",
        "from sklearn.svm import SVR\n",
        "from sklearn.model_selection import KFold"
      ]
    },
    {
      "cell_type": "markdown",
      "metadata": {
        "id": "lrd7f_c8LBFA"
      },
      "source": [
        "## Step 1 : Dataset preparation and augmentation through overlapping window"
      ]
    },
    {
      "cell_type": "markdown",
      "metadata": {
        "id": "aUVzBKjJLh46"
      },
      "source": [
        "### Handling of the guided gestures training/validation data"
      ]
    },
    {
      "cell_type": "markdown",
      "metadata": {
        "id": "qWuuSVP8Ls_B"
      },
      "source": [
        "#### Guided training/validation data loading, shape and size checking"
      ]
    },
    {
      "cell_type": "code",
      "execution_count": 46,
      "metadata": {
        "colab": {
          "base_uri": "https://localhost:8080/"
        },
        "id": "ufl5xoxSL14V",
        "outputId": "b815b846-95d8-4f97-b07f-a7d3bac95bd4"
      },
      "outputs": [
        {
          "name": "stdout",
          "output_type": "stream",
          "text": [
            "(5, 8, 230000) 9200000\n"
          ]
        }
      ],
      "source": [
        "# Data loading\n",
        "X_guided=np.load(r\"C:\\Users\\pavel\\OneDrive\\Documents\\BIG DATA 2024-2025\\Session2\\Statistical foundations of machine learning\\project\\F422 EMG project data\\guided\\guided_dataset_X.npy\")\n",
        "\n",
        "# Shape and size checking\n",
        "print(X_guided.shape, np.size(X_guided))"
      ]
    },
    {
      "cell_type": "markdown",
      "metadata": {
        "id": "5G-_Wzp5Mgx_"
      },
      "source": [
        "The dataset shows the records of 5 sessions, 8 electrodes for 230 0000 points of time. The dataset contains then 9 200 000 records."
      ]
    },
    {
      "cell_type": "markdown",
      "metadata": {
        "id": "ueg_a1IsMm79"
      },
      "source": [
        "#### Guided training/validation data augmentation, shape and size checking"
      ]
    },
    {
      "cell_type": "code",
      "execution_count": 47,
      "metadata": {
        "colab": {
          "base_uri": "https://localhost:8080/"
        },
        "id": "KDdxVHskMqBX",
        "outputId": "70e1b53d-b299-456c-d04e-6b415be0344e"
      },
      "outputs": [
        {
          "name": "stdout",
          "output_type": "stream",
          "text": [
            "(5, 8, 1837, 500) 36740000\n"
          ]
        }
      ],
      "source": [
        "# Data segmentation, window size = 500, overlap=75%\n",
        "X_guided_augmented=sliding_window_view(X_guided, 500,axis=2)[:,:, ::125]\n",
        "\n",
        "# Shape and size checking\n",
        "print(X_guided_augmented.shape,np.size(X_guided_augmented))"
      ]
    },
    {
      "cell_type": "markdown",
      "metadata": {
        "id": "zwlZZ464MuVu"
      },
      "source": [
        "The augmented dataset shows the records of 5 sessions, 8 electrodes and 18737 intervals of time (with an overlap of 75%). Each interval of time contains records for 500 points of time. The dataset contains now 36 740 000 records."
      ]
    },
    {
      "cell_type": "code",
      "execution_count": 48,
      "metadata": {
        "colab": {
          "base_uri": "https://localhost:8080/"
        },
        "id": "LuRuSeYQM9MM",
        "outputId": "ad837e5b-ae47-497a-85ba-56cb1d84ebae"
      },
      "outputs": [
        {
          "name": "stdout",
          "output_type": "stream",
          "text": [
            "3.993478260869565\n"
          ]
        }
      ],
      "source": [
        "# Ratio of augmented data size to original data\n",
        "print(np.size(X_guided_augmented)/np.size(X_guided))"
      ]
    },
    {
      "cell_type": "markdown",
      "metadata": {
        "id": "1MWadmPgM_et"
      },
      "source": [
        "The augmented dataset has a size of about 4 times with respect to the original dataset."
      ]
    },
    {
      "cell_type": "markdown",
      "metadata": {
        "id": "kkAoKHkcNFkz"
      },
      "source": [
        "### Handling of the guided gestures training/validation target (hand pose estimation) data"
      ]
    },
    {
      "cell_type": "markdown",
      "metadata": {
        "id": "JYeOJJhHNX3B"
      },
      "source": [
        "#### Guided training/validation target data  loading, shape and size checking"
      ]
    },
    {
      "cell_type": "code",
      "execution_count": 49,
      "metadata": {
        "id": "Jb3EvpSUNZ8e"
      },
      "outputs": [],
      "source": [
        "# Data loading\n",
        "Y_guided=np.load(r\"C:\\Users\\pavel\\OneDrive\\Documents\\BIG DATA 2024-2025\\Session2\\Statistical foundations of machine learning\\project\\F422 EMG project data\\guided\\guided_dataset_y.npy\")"
      ]
    },
    {
      "cell_type": "code",
      "execution_count": 50,
      "metadata": {
        "colab": {
          "base_uri": "https://localhost:8080/"
        },
        "id": "ELO_l_jLOO7A",
        "outputId": "b9a76847-44cd-49f9-e681-985ab1bdd773"
      },
      "outputs": [
        {
          "name": "stdout",
          "output_type": "stream",
          "text": [
            "(5, 51, 230000) 58650000\n"
          ]
        }
      ],
      "source": [
        "# Shape and size checking\n",
        "print(Y_guided.shape, np.size(Y_guided))"
      ]
    },
    {
      "cell_type": "markdown",
      "metadata": {
        "id": "wFxQe7OCOUxJ"
      },
      "source": [
        "The dataset shows the records of 51 joint-angles for 5 sessions (5 predefined hand postures) and 230 0000 points of time. The dataset contains then 58 650 000 records."
      ]
    },
    {
      "cell_type": "markdown",
      "metadata": {
        "id": "ItdvvDzhOdTE"
      },
      "source": [
        "#### Guided training/validation target data segmentation, keeping of the up bound point of time of each window"
      ]
    },
    {
      "cell_type": "code",
      "execution_count": 51,
      "metadata": {
        "colab": {
          "base_uri": "https://localhost:8080/"
        },
        "id": "0ZnjPeTuOfki",
        "outputId": "bfb092bb-cd09-46ad-f9b9-334a686e8dee"
      },
      "outputs": [
        {
          "name": "stdout",
          "output_type": "stream",
          "text": [
            "(5, 51, 1837, 500)\n"
          ]
        }
      ],
      "source": [
        "# Data segmentation, window size = 500, overlap=75%\n",
        "Y_guided_slided=sliding_window_view(Y_guided, 500,axis=2)[:,:, ::125]\n",
        "# Shape checking\n",
        "print(Y_guided_slided.shape)"
      ]
    },
    {
      "cell_type": "code",
      "execution_count": 52,
      "metadata": {
        "id": "F-Ww5kWtOmkH"
      },
      "outputs": [],
      "source": [
        "# Reducing each window to the up bound point of time\n",
        "Y_guided_slided=Y_guided_slided[:,:,:,-1:]"
      ]
    },
    {
      "cell_type": "code",
      "execution_count": 53,
      "metadata": {
        "colab": {
          "base_uri": "https://localhost:8080/"
        },
        "id": "NuO34zq9OpQy",
        "outputId": "e056dcc1-b263-4edc-c4a9-37591f0474e2"
      },
      "outputs": [
        {
          "name": "stdout",
          "output_type": "stream",
          "text": [
            "(5, 51, 1837, 1)\n"
          ]
        }
      ],
      "source": [
        "# Shape checking\n",
        "print(Y_guided_slided.shape)"
      ]
    },
    {
      "cell_type": "markdown",
      "metadata": {
        "id": "BXShv4tbOv6B"
      },
      "source": [
        "### Handling of the free gestures training/validation data"
      ]
    },
    {
      "cell_type": "markdown",
      "metadata": {
        "id": "xqYv3zokO2FF"
      },
      "source": [
        "#### Free moves training/validation data loading, shape and size checking"
      ]
    },
    {
      "cell_type": "code",
      "execution_count": 54,
      "metadata": {
        "colab": {
          "base_uri": "https://localhost:8080/"
        },
        "id": "kBiwUW0yO3__",
        "outputId": "3ea51327-8f6c-4b63-b98d-13f0f5b185c9"
      },
      "outputs": [
        {
          "name": "stdout",
          "output_type": "stream",
          "text": [
            "(5, 8, 270000) 10800000\n"
          ]
        }
      ],
      "source": [
        "# Data loading\n",
        "X_freemoves=np.load(r\"C:\\Users\\pavel\\OneDrive\\Documents\\BIG DATA 2024-2025\\Session2\\Statistical foundations of machine learning\\project\\F422 EMG project data\\freemoves\\freemoves_dataset_X.npy\")\n",
        "\n",
        "# Shape and size checking\n",
        "print(X_freemoves.shape, np.size(X_freemoves))"
      ]
    },
    {
      "cell_type": "markdown",
      "metadata": {
        "id": "kMvuTb6FPL9e"
      },
      "source": [
        "The dataset shows the records of 5 sessions, 8 electrodes for 270 0000 points of time. The dataset contains then 10 800 000 records."
      ]
    },
    {
      "cell_type": "markdown",
      "metadata": {
        "id": "F6l_cSAqPQbn"
      },
      "source": [
        "#### Free moves training/validation data augmentation, shape and size checking"
      ]
    },
    {
      "cell_type": "code",
      "execution_count": 55,
      "metadata": {
        "colab": {
          "base_uri": "https://localhost:8080/"
        },
        "id": "2r8uiCKuPT1X",
        "outputId": "1a10a01b-c23e-40e8-dd35-027ba01f578f"
      },
      "outputs": [
        {
          "name": "stdout",
          "output_type": "stream",
          "text": [
            "(5, 8, 2157, 500) 43140000\n"
          ]
        }
      ],
      "source": [
        "# Data segmentation, window size = 500, overlap=75%\n",
        "X_freemoves_augmented=sliding_window_view(X_freemoves, 500,axis=2)[:,:, ::125]\n",
        "\n",
        "# Shape and size checking\n",
        "print(X_freemoves_augmented.shape,np.size(X_freemoves_augmented))"
      ]
    },
    {
      "cell_type": "markdown",
      "metadata": {
        "id": "X0ePGbfkPXbh"
      },
      "source": [
        "The augmented dataset shows the records of 5 sessions, 8 electrodes and 2157 intervals of time (with an overlap of 75%). Each interval of time contains records for 500 points of time, resulting then in a number of 43 140 000 records for the dataset."
      ]
    },
    {
      "cell_type": "code",
      "execution_count": 56,
      "metadata": {
        "colab": {
          "base_uri": "https://localhost:8080/"
        },
        "id": "xEyXW62LPZfi",
        "outputId": "77664937-6631-4088-a5dc-2daa24d84836"
      },
      "outputs": [
        {
          "name": "stdout",
          "output_type": "stream",
          "text": [
            "3.9944444444444445\n"
          ]
        }
      ],
      "source": [
        "# Ratio of augmented data size to original data\n",
        "print(np.size(X_freemoves_augmented)/np.size(X_freemoves))"
      ]
    },
    {
      "cell_type": "markdown",
      "metadata": {
        "id": "unbEsV_PPc6j"
      },
      "source": [
        "The augmented dataset has a size of about 4 times with respect to the original dataset."
      ]
    },
    {
      "cell_type": "markdown",
      "metadata": {
        "id": "ynzWnSkyPi7N"
      },
      "source": [
        "### Handling of the free gestures training/validation target (hand pose estimation) data"
      ]
    },
    {
      "cell_type": "markdown",
      "metadata": {
        "id": "PjbufUbfPqve"
      },
      "source": [
        "#### Free moves training/validation target data  loading, shape and size checking"
      ]
    },
    {
      "cell_type": "code",
      "execution_count": 57,
      "metadata": {
        "id": "QgPBpuvgPtMc"
      },
      "outputs": [],
      "source": [
        "# Data loading\n",
        "Y_freemoves=np.load(r\"C:\\Users\\pavel\\OneDrive\\Documents\\BIG DATA 2024-2025\\Session2\\Statistical foundations of machine learning\\project\\F422 EMG project data\\freemoves\\freemoves_dataset_y.npy\")"
      ]
    },
    {
      "cell_type": "code",
      "execution_count": 58,
      "metadata": {
        "colab": {
          "base_uri": "https://localhost:8080/"
        },
        "id": "EQbZ3NgJP8Zn",
        "outputId": "962d723e-f959-4e0f-b76f-881ab32bd828"
      },
      "outputs": [
        {
          "name": "stdout",
          "output_type": "stream",
          "text": [
            "(5, 51, 270000) 68850000\n"
          ]
        }
      ],
      "source": [
        "# Shape and size checking\n",
        "print(Y_freemoves.shape, np.size(Y_freemoves))"
      ]
    },
    {
      "cell_type": "markdown",
      "metadata": {
        "id": "mRga5OV2P-og"
      },
      "source": [
        "The dataset shows the records of 51 joint-angles for 5 sessions (5 predefined hand postures) and 270 0000 points of time. The dataset contains then 68 850 000 records."
      ]
    },
    {
      "cell_type": "markdown",
      "metadata": {
        "id": "FY9OUEFBQGNH"
      },
      "source": [
        "#### Free moves training/validation target data segmentation, keeping of the up bound point of time of each window"
      ]
    },
    {
      "cell_type": "code",
      "execution_count": 59,
      "metadata": {
        "colab": {
          "base_uri": "https://localhost:8080/"
        },
        "id": "f27Q8Wa7QHlK",
        "outputId": "b00653fb-8a9c-44c9-c574-cd7012ff4421"
      },
      "outputs": [
        {
          "name": "stdout",
          "output_type": "stream",
          "text": [
            "(5, 51, 2157, 500)\n"
          ]
        }
      ],
      "source": [
        "# Data segmentation, window size = 500, overlap=75%\n",
        "Y_freemoves_slided=sliding_window_view(Y_freemoves, 500,axis=2)[:,:, ::125]\n",
        "# Shape checking\n",
        "print(Y_freemoves_slided.shape)"
      ]
    },
    {
      "cell_type": "code",
      "execution_count": 60,
      "metadata": {
        "id": "0iHwxk0sQNRu"
      },
      "outputs": [],
      "source": [
        "# Reducing each window to the up bound point of time\n",
        "Y_freemoves_slided=Y_freemoves_slided[:,:,:,-1:]"
      ]
    },
    {
      "cell_type": "code",
      "execution_count": 61,
      "metadata": {
        "colab": {
          "base_uri": "https://localhost:8080/"
        },
        "id": "z4EnGeORQOmX",
        "outputId": "b50edcd2-ac6f-48e5-ca4d-8b866f607ab5"
      },
      "outputs": [
        {
          "name": "stdout",
          "output_type": "stream",
          "text": [
            "(5, 51, 2157, 1)\n"
          ]
        }
      ],
      "source": [
        "# Shape checking\n",
        "print(Y_freemoves_slided.shape)"
      ]
    },
    {
      "cell_type": "markdown",
      "metadata": {
        "id": "NMfMxRv_CQTC"
      },
      "source": [
        "# 2) Determine and implement an adequate cross-validation strategy to validate your regression models, specifying how you organized your data partitions for training and validation"
      ]
    },
    {
      "cell_type": "markdown",
      "metadata": {
        "id": "qkH-r-qAISio"
      },
      "source": [
        " Step 1 — Window extraction with session labels"
      ]
    },
    {
      "cell_type": "code",
      "execution_count": 62,
      "metadata": {
        "id": "aQhdHYBwHzjR"
      },
      "outputs": [],
      "source": [
        "def create_overlapping_windows(X, y, window_size=500, overlap=0.75):\n",
        "    \"\"\"\n",
        "    Segments raw sEMG and joint-angle signals into overlapping windows.\n",
        "    Also records the session index for each window.\n",
        "\n",
        "    Parameters:\n",
        "        X (np.ndarray): shape (num_sessions, num_electrodes, num_timesteps)\n",
        "        y (np.ndarray): shape (num_sessions, num_joints, num_timesteps)\n",
        "        window_size (int): number of time points per window (default = 500)\n",
        "        overlap (float): fraction of overlap between consecutive windows (e.g. 0.75 for 75%)\n",
        "\n",
        "    Returns:\n",
        "        X_windows (np.ndarray): shape (n_windows, num_electrodes, window_size)\n",
        "        y_windows (np.ndarray): shape (n_windows, num_joints, window_size)\n",
        "        session_labels (np.ndarray): shape (n_windows,), session index for each window\n",
        "    \"\"\"\n",
        "    step_size = int(window_size * (1 - overlap))  # Distance between window starts\n",
        "    X_windows, y_windows, session_labels = [], [], []\n",
        "\n",
        "    for session_idx in range(X.shape[0]):\n",
        "        emg = X[session_idx]     # shape (8, T)\n",
        "        joints = y[session_idx]  # shape (51, T)\n",
        "        T = emg.shape[1]\n",
        "\n",
        "        # Slide window over time axis\n",
        "        for start in range(0, T - window_size + 1, step_size):\n",
        "            end = start + window_size\n",
        "            X_windows.append(emg[:, start:end])        # Extract EMG window\n",
        "            y_windows.append(joints[:, start:end])     # Extract joint-angle window\n",
        "            session_labels.append(session_idx)         # Label the window by session\n",
        "\n",
        "    return np.array(X_windows), np.array(y_windows), np.array(session_labels)\n"
      ]
    },
    {
      "cell_type": "markdown",
      "metadata": {
        "id": "HeZzU30sKWgw"
      },
      "source": [
        "Step 2 -  Leave-One-Session-Out Cross-Validation"
      ]
    },
    {
      "cell_type": "code",
      "execution_count": 63,
      "metadata": {
        "id": "uwdiAa8ZIeVe"
      },
      "outputs": [],
      "source": [
        "def leave_one_session_out_cv(X_windows, y_windows, session_labels):\n",
        "    \"\"\"\n",
        "    Yields train/validation splits for Leave-One-Session-Out cross-validation.\n",
        "\n",
        "    Parameters:\n",
        "        X_windows (np.ndarray): EMG data windows\n",
        "        y_windows (np.ndarray): joint-angle windows\n",
        "        session_labels (np.ndarray): session index for each window\n",
        "\n",
        "    Yields:\n",
        "        X_train, X_val, y_train, y_val (each np.ndarray)\n",
        "    \"\"\"\n",
        "    unique_sessions = np.unique(session_labels)  # Usually [0, 1, 2, 3, 4]\n",
        "\n",
        "    for test_session in unique_sessions:\n",
        "        val_idx = np.where(session_labels == test_session)[0]    # Indices for validation\n",
        "        train_idx = np.where(session_labels != test_session)[0]  # Indices for training\n",
        "\n",
        "        X_train, X_val = X_windows[train_idx], X_windows[val_idx]\n",
        "        y_train, y_val = y_windows[train_idx], y_windows[val_idx]\n",
        "\n",
        "        yield X_train, X_val, y_train, y_val\n"
      ]
    },
    {
      "cell_type": "markdown",
      "metadata": {
        "id": "fUIAKW1gKkxI"
      },
      "source": [
        "Step 3: Apply to Guided Gestures Dataset"
      ]
    },
    {
      "cell_type": "code",
      "execution_count": 64,
      "metadata": {
        "colab": {
          "base_uri": "https://localhost:8080/"
        },
        "id": "LYzI7nMlIwMQ",
        "outputId": "074a7b8d-4584-4176-b4f0-0e6eb1571839"
      },
      "outputs": [
        {
          "name": "stdout",
          "output_type": "stream",
          "text": [
            "[Guided Fold 1] Train shape: (7348, 8, 500), Validation shape: (1837, 8, 500)\n",
            "[Guided Fold 2] Train shape: (7348, 8, 500), Validation shape: (1837, 8, 500)\n",
            "[Guided Fold 3] Train shape: (7348, 8, 500), Validation shape: (1837, 8, 500)\n",
            "[Guided Fold 4] Train shape: (7348, 8, 500), Validation shape: (1837, 8, 500)\n",
            "[Guided Fold 5] Train shape: (7348, 8, 500), Validation shape: (1837, 8, 500)\n"
          ]
        }
      ],
      "source": [
        "# Segment windows and get session labels\n",
        "guided_X_win, guided_y_win, guided_labels = create_overlapping_windows(X_guided, Y_guided)\n",
        "\n",
        "# Run LOSO-CV\n",
        "for fold, (X_tr, X_val, y_tr, y_val) in enumerate(\n",
        "    leave_one_session_out_cv(guided_X_win, guided_y_win, guided_labels)\n",
        "):\n",
        "    print(f\"[Guided Fold {fold+1}] Train shape: {X_tr.shape}, Validation shape: {X_val.shape}\")\n"
      ]
    },
    {
      "cell_type": "markdown",
      "metadata": {
        "id": "7-Ce5w-GOvKv"
      },
      "source": [
        "Step 4: Apply to Free Gestures Dataset"
      ]
    },
    {
      "cell_type": "code",
      "execution_count": 65,
      "metadata": {
        "colab": {
          "base_uri": "https://localhost:8080/"
        },
        "id": "Cy2Xp2YsLNwH",
        "outputId": "4ca88dcf-bad4-45f5-db7f-71f46a24512b"
      },
      "outputs": [
        {
          "name": "stdout",
          "output_type": "stream",
          "text": [
            "[Free Fold 1] Train shape: (8628, 8, 500), Validation shape: (2157, 8, 500)\n",
            "[Free Fold 2] Train shape: (8628, 8, 500), Validation shape: (2157, 8, 500)\n"
          ]
        },
        {
          "name": "stdout",
          "output_type": "stream",
          "text": [
            "[Free Fold 3] Train shape: (8628, 8, 500), Validation shape: (2157, 8, 500)\n",
            "[Free Fold 4] Train shape: (8628, 8, 500), Validation shape: (2157, 8, 500)\n",
            "[Free Fold 5] Train shape: (8628, 8, 500), Validation shape: (2157, 8, 500)\n"
          ]
        }
      ],
      "source": [
        "# Segment windows and get session labels\n",
        "free_X_win, free_y_win, free_labels = create_overlapping_windows(X_freemoves, Y_freemoves)\n",
        "\n",
        "# Run LOSO-CV\n",
        "for fold, (X_tr, X_val, y_tr, y_val) in enumerate(\n",
        "    leave_one_session_out_cv(free_X_win, free_y_win, free_labels)\n",
        "):\n",
        "    print(f\"[Free Fold {fold+1}] Train shape: {X_tr.shape}, Validation shape: {X_val.shape}\")\n"
      ]
    },
    {
      "cell_type": "markdown",
      "metadata": {
        "id": "Fx-ZXpszPA5i"
      },
      "source": [
        "We apply Leave-One-Session-Out Cross-Validation separately to both the guided and free gesture datasets. This ensures that training and validation sets are fully separated in time, avoiding any overlap-induced leakage. Each validation set consists of data from a completely unseen recording session, providing a fair and realistic estimate of the model’s generalization performance."
      ]
    },
    {
      "cell_type": "markdown",
      "metadata": {
        "id": "84OD8ohLBmzE"
      },
      "source": [
        "question 4\n",
        "\n",
        "In accordance with Section 3.1 of the \\textit{Statistical Foundations of Machine Learning} handbook and the INFO-F-422 project brief, raw EMG windows are first transformed into a compact, physiologically meaningful representation. This step reduces dimensionality, improves interpretability, and provides robust inputs for our regression models.\n",
        "\n",
        "In this context, a \\emph{feature} is any numeric descriptor computed from a segmented EMG window that serves as input to the regression model. After dividing the continuous EMG signal into windows of shape\n",
        "\\[\n",
        "(n_{\\text{windows}},\\;n_{\\text{channels}},\\;n_{\\text{times}}),\n",
        "\\]\n",
        "our \\texttt{TemporalFeatureExtractor} computes, for each channel in each window, the following six time-domain descriptors:\n",
        "\n",
        "\\begin{align*}\n",
        "\\mathrm{MAV} &= \\frac{1}{K}\\sum_{i=1}^{K} \\lvert x_{i}\\rvert, \\\\[6pt]\n",
        "\\mathrm{RMS} &= \\sqrt{\\frac{1}{K}\\sum_{i=1}^{K} x_{i}^{2}}, \\\\[6pt]\n",
        "\\mathrm{Var} &= \\frac{1}{K-1}\\sum_{i=1}^{K}(x_{i}-\\bar{x})^{2}, \\\\[6pt]\n",
        "\\mathrm{STD} &= \\sqrt{\\frac{1}{K-1}\\sum_{i=1}^{K}(x_{i}-\\bar{x})^{2}}, \\\\[6pt]\n",
        "\\mathrm{ZC}  &= \\sum_{i=1}^{K-1} \\mathbf{1}\\bigl[x_{i}\\,x_{i+1}<0\\bigr], \\\\[6pt]\n",
        "\\mathrm{MPR} &= \\frac{1}{K}\\sum_{i=1}^{K} \\mathbf{1}\\bigl[\\lvert x_{i}\\rvert > \\sigma\\bigr].\n",
        "\\end{align*}\n",
        "\n",
        "\\noindent Where:\n",
        "\\begin{itemize}\n",
        "  \\item {K} is the number of time samples per window,\n",
        "  \\item $x_{i}$ is the $i$-th sample of the channel,\n",
        "  \\item $\\bar{x}$ is the mean over the window,\n",
        "  \\item $\\sigma$ is a predefined amplitude threshold,\n",
        "  \\item $\\mathbf{1}[\\cdot]$ is the indicator function (1 if its argument is true, 0 otherwise).\n",
        "\\end{itemize}\n",
        "\n",
        "Since there are $n_{\\text{channels}}$ channels and 6 features per channel, each window is represented by an $(n_{\\text{channels}}\\times6)$-dimensional feature vector. This vector forms one row of our design matrix and feeds directly into the regression step of our scikit-learn pipeline.\n"
      ]
    },
    {
      "cell_type": "code",
      "execution_count": 66,
      "metadata": {
        "id": "3UT0EWgTAf9z"
      },
      "outputs": [],
      "source": [
        "import numpy as np\n",
        "import pandas as pd\n",
        "import matplotlib.pyplot as plt\n",
        "\n",
        "from sklearn.base import BaseEstimator, TransformerMixin\n",
        "from sklearn.pipeline import Pipeline\n",
        "from sklearn.preprocessing import StandardScaler\n",
        "from sklearn.linear_model import Ridge\n",
        "from sklearn.ensemble import RandomForestRegressor\n",
        "from sklearn.model_selection import LeaveOneGroupOut, cross_val_score\n",
        "from sklearn.feature_selection import RFECV"
      ]
    },
    {
      "cell_type": "code",
      "execution_count": 67,
      "metadata": {
        "id": "rERi9O8UBvbk"
      },
      "outputs": [],
      "source": [
        "#1. Custom Transformer pour l’extraction des 6 features temporelles\n",
        "\n",
        "from sklearn.base import BaseEstimator, TransformerMixin\n",
        "import numpy as np\n",
        "\n",
        "class TemporalFeatureExtractor(BaseEstimator, TransformerMixin):\n",
        "    def __init__(self, threshold=0.01):\n",
        "        self.threshold = threshold\n",
        "\n",
        "    def fit(self, X, y=None):\n",
        "        # Aucun apprentissage, on retourne simplement self\n",
        "        return self\n",
        "\n",
        "    def transform(self, X):\n",
        "        \"\"\"\n",
        "        X : array-like, shape (n_samples, n_channels, window_length)\n",
        "        Retourne : array, shape (n_samples, n_channels * 7)\n",
        "        Features : MAV, RMS, Var, STD, ZC, MPR, WL\n",
        "        \"\"\"\n",
        "        n_samples, n_ch, n_t = X.shape\n",
        "        feats = np.zeros((n_samples, n_ch * 7))\n",
        "        for i in range(n_samples):\n",
        "            idx = 0\n",
        "            for ch in range(n_ch):\n",
        "                x = X[i, ch]\n",
        "                # Features temporelles de base\n",
        "                mav = np.mean(np.abs(x))\n",
        "                rms = np.sqrt(np.mean(x**2))\n",
        "                var = np.var(x, ddof=1)\n",
        "                std = np.std(x, ddof=1)\n",
        "                zc  = np.sum(x[:-1] * x[1:] < 0)\n",
        "                mpr = np.mean(np.abs(x) > self.threshold)\n",
        "                # Feature additionnelle : Waveform Length\n",
        "                wl  = np.sum(np.abs(np.diff(x)))\n",
        "                feats[i, idx:idx+7] = [mav, rms, var, std, zc, mpr, wl]\n",
        "                idx += 7\n",
        "        return feats\n",
        "\n",
        "# Exemple d'instanciation\n",
        "feat_extractor = TemporalFeatureExtractor(threshold=0.01)"
      ]
    },
    {
      "cell_type": "code",
      "execution_count": 68,
      "metadata": {
        "id": "NnA0x4nzBzgL"
      },
      "outputs": [],
      "source": [
        "# 2. Choix de deux modèles de base à comparer\n",
        "\n",
        "models = {\n",
        "    'Ridge': Ridge(alpha=1.0),\n",
        "    'RandomForest': RandomForestRegressor(n_estimators=1, random_state=0, n_jobs=-1)\n",
        "}\n"
      ]
    },
    {
      "cell_type": "code",
      "execution_count": 69,
      "metadata": {
        "id": "ljRojoLYB19L"
      },
      "outputs": [],
      "source": [
        "X_list, y_list, sess_list = [], [], []\n",
        "for sess in range(guided_X_win.shape[0]):\n",
        "    Xs = guided_X_win[sess]\n",
        "    ys = guided_y_win[sess]\n",
        "    for start in range(0, Xs.shape[1] - 500 + 1, 250):\n",
        "        X_list.append(Xs[:, start:start+500])\n",
        "        # on prend les cibles du dernier point de la fenêtre\n",
        "        y_list.append(ys[:, start+500-1])\n",
        "        sess_list.append(sess)\n",
        "\n",
        "X_windows  = np.stack(X_list)       # (n_windows, 8, 500)\n",
        "y_windows  = np.stack(y_list)       # (n_windows, 51)\n",
        "session_ids = np.array(sess_list)"
      ]
    },
    {
      "cell_type": "code",
      "execution_count": 70,
      "metadata": {
        "colab": {
          "base_uri": "https://localhost:8080/",
          "height": 371
        },
        "id": "N7ocL_weB2mT",
        "outputId": "0f1052ea-5ee0-442d-ba61-2ef5d9f05994"
      },
      "outputs": [
        {
          "name": "stderr",
          "output_type": "stream",
          "text": [
            "c:\\Users\\pavel\\anaconda3\\envs\\sfml\\Lib\\site-packages\\sklearn\\model_selection\\_split.py:86: UserWarning: The groups parameter is ignored by KFold\n",
            "  warnings.warn(\n"
          ]
        },
        {
          "data": {
            "application/vnd.microsoft.datawrangler.viewer.v0+json": {
              "columns": [
                {
                  "name": "index",
                  "rawType": "int64",
                  "type": "integer"
                },
                {
                  "name": "Ridge",
                  "rawType": "float64",
                  "type": "float"
                },
                {
                  "name": "RandomForest",
                  "rawType": "float64",
                  "type": "float"
                }
              ],
              "conversionMethod": "pd.DataFrame",
              "ref": "8c20d59b-116a-4c20-be78-9b986c81165e",
              "rows": [
                [
                  "0",
                  "4.354084753316247",
                  "3.7287040521513624"
                ],
                [
                  "1",
                  "4.1899878059428355",
                  "3.5240944583689964"
                ],
                [
                  "2",
                  "4.557715052826092",
                  "3.8709921437170864"
                ],
                [
                  "3",
                  "3.851666108598721",
                  "3.154042159096575"
                ],
                [
                  "4",
                  "4.567174930372528",
                  "4.806696102711869"
                ],
                [
                  "5",
                  "3.8215985143289",
                  "2.9561330521681692"
                ],
                [
                  "6",
                  "3.8453320401357782",
                  "3.4813380096132267"
                ],
                [
                  "7",
                  "3.818271871339337",
                  "3.1893096340080533"
                ],
                [
                  "8",
                  "4.134500507223013",
                  "4.155939476977368"
                ],
                [
                  "9",
                  "3.8661500946430736",
                  "3.1965693901739862"
                ]
              ],
              "shape": {
                "columns": 2,
                "rows": 10
              }
            },
            "text/html": [
              "<div>\n",
              "<style scoped>\n",
              "    .dataframe tbody tr th:only-of-type {\n",
              "        vertical-align: middle;\n",
              "    }\n",
              "\n",
              "    .dataframe tbody tr th {\n",
              "        vertical-align: top;\n",
              "    }\n",
              "\n",
              "    .dataframe thead th {\n",
              "        text-align: right;\n",
              "    }\n",
              "</style>\n",
              "<table border=\"1\" class=\"dataframe\">\n",
              "  <thead>\n",
              "    <tr style=\"text-align: right;\">\n",
              "      <th></th>\n",
              "      <th>Ridge</th>\n",
              "      <th>RandomForest</th>\n",
              "    </tr>\n",
              "  </thead>\n",
              "  <tbody>\n",
              "    <tr>\n",
              "      <th>0</th>\n",
              "      <td>4.354085</td>\n",
              "      <td>3.728704</td>\n",
              "    </tr>\n",
              "    <tr>\n",
              "      <th>1</th>\n",
              "      <td>4.189988</td>\n",
              "      <td>3.524094</td>\n",
              "    </tr>\n",
              "    <tr>\n",
              "      <th>2</th>\n",
              "      <td>4.557715</td>\n",
              "      <td>3.870992</td>\n",
              "    </tr>\n",
              "    <tr>\n",
              "      <th>3</th>\n",
              "      <td>3.851666</td>\n",
              "      <td>3.154042</td>\n",
              "    </tr>\n",
              "    <tr>\n",
              "      <th>4</th>\n",
              "      <td>4.567175</td>\n",
              "      <td>4.806696</td>\n",
              "    </tr>\n",
              "    <tr>\n",
              "      <th>5</th>\n",
              "      <td>3.821599</td>\n",
              "      <td>2.956133</td>\n",
              "    </tr>\n",
              "    <tr>\n",
              "      <th>6</th>\n",
              "      <td>3.845332</td>\n",
              "      <td>3.481338</td>\n",
              "    </tr>\n",
              "    <tr>\n",
              "      <th>7</th>\n",
              "      <td>3.818272</td>\n",
              "      <td>3.189310</td>\n",
              "    </tr>\n",
              "    <tr>\n",
              "      <th>8</th>\n",
              "      <td>4.134501</td>\n",
              "      <td>4.155939</td>\n",
              "    </tr>\n",
              "    <tr>\n",
              "      <th>9</th>\n",
              "      <td>3.866150</td>\n",
              "      <td>3.196569</td>\n",
              "    </tr>\n",
              "  </tbody>\n",
              "</table>\n",
              "</div>"
            ],
            "text/plain": [
              "      Ridge  RandomForest\n",
              "0  4.354085      3.728704\n",
              "1  4.189988      3.524094\n",
              "2  4.557715      3.870992\n",
              "3  3.851666      3.154042\n",
              "4  4.567175      4.806696\n",
              "5  3.821599      2.956133\n",
              "6  3.845332      3.481338\n",
              "7  3.818272      3.189310\n",
              "8  4.134501      4.155939\n",
              "9  3.866150      3.196569"
            ]
          },
          "metadata": {},
          "output_type": "display_data"
        },
        {
          "name": "stdout",
          "output_type": "stream",
          "text": [
            "RMSE moyen par modèle :\n",
            "Ridge           4.100648\n",
            "RandomForest    3.606382\n",
            "dtype: float64\n"
          ]
        },
        {
          "data": {
            "image/png": "[encoded data removed]",
            "text/plain": [
              "<Figure size 640x480 with 1 Axes>"
            ]
          },
          "metadata": {},
          "output_type": "display_data"
        }
      ],
      "source": [
        "from sklearn.pipeline import make_pipeline\n",
        "from sklearn.model_selection import cross_validate\n",
        "import numpy as np\n",
        "\n",
        "# Pré-extraction des features une seule fois\n",
        "X_features = feat_extractor.fit_transform(X_windows)\n",
        "\n",
        "# Paramètres optimisés\n",
        "cv_scores = {}\n",
        "n_splits = min(10, len(np.unique(session_ids)))  # On limite à 10 plis max\n",
        "\n",
        "for name, model in models.items():\n",
        "    pipe = make_pipeline(\n",
        "        StandardScaler(),\n",
        "        model\n",
        "    )\n",
        "    \n",
        "    # Utilisation de cross_validate pour plus de flexibilité\n",
        "    cv_res = cross_validate(\n",
        "        pipe,\n",
        "        X_features,  # Utilisation des features pré-calculées\n",
        "        y_windows,\n",
        "        groups=session_ids,\n",
        "        cv=n_splits,\n",
        "        scoring='neg_root_mean_squared_error',\n",
        "        n_jobs=-1,\n",
        "        return_train_score=False,\n",
        "        error_score='raise'\n",
        "    )\n",
        "    \n",
        "    cv_scores[name] = -cv_res['test_score']  # Conversion en scores positifs\n",
        "\n",
        "# Tableau des RMSE par pli\n",
        "df_cv = pd.DataFrame(cv_scores)\n",
        "display(df_cv)\n",
        "print(\"RMSE moyen par modèle :\")\n",
        "print(df_cv.mean())\n",
        "\n",
        "# Visualisation\n",
        "df_cv.boxplot()\n",
        "plt.ylabel(\"RMSE\")\n",
        "plt.title(f\"Comparaison cross-validation ({n_splits}-fold)\")\n",
        "plt.show()"
      ]
    },
    {
      "cell_type": "code",
      "execution_count": 71,
      "metadata": {
        "colab": {
          "base_uri": "https://localhost:8080/",
          "height": 371
        },
        "id": "vdyCZULxB7FL",
        "outputId": "a85d9348-764f-451f-a391-6c086aad920f"
      },
      "outputs": [
        {
          "data": {
            "application/vnd.microsoft.datawrangler.viewer.v0+json": {
              "columns": [
                {
                  "name": "index",
                  "rawType": "object",
                  "type": "string"
                },
                {
                  "name": "Ridge",
                  "rawType": "float64",
                  "type": "float"
                },
                {
                  "name": "RandomForest",
                  "rawType": "float64",
                  "type": "float"
                }
              ],
              "conversionMethod": "pd.DataFrame",
              "ref": "202135e8-36f4-4996-8753-14b48f16aa66",
              "rows": [
                [
                  "f34",
                  "1.953643614746553",
                  "0.2849782653126875"
                ],
                [
                  "f27",
                  "1.9513913532797085",
                  "0.24615046473918545"
                ],
                [
                  "f13",
                  "3.3278135803230144",
                  "0.09137605806516819"
                ],
                [
                  "f20",
                  "2.0915699686454574",
                  "0.06553136408110591"
                ],
                [
                  "f7",
                  "2.8870929685153173",
                  "0.05595644620370801"
                ],
                [
                  "f6",
                  "0.9540956841514856",
                  "0.03842787739861055"
                ],
                [
                  "f48",
                  "2.1823877285196276",
                  "0.035749195093167416"
                ],
                [
                  "f44",
                  "5.6652510611605305",
                  "0.032920626826082926"
                ],
                [
                  "f21",
                  "2.7731499469402863",
                  "0.023611273334177195"
                ],
                [
                  "f51",
                  "1.2882542660329395",
                  "0.016683596857586837"
                ],
                [
                  "f43",
                  "5.701495831724511",
                  "0.014470771085892405"
                ],
                [
                  "f45",
                  "2.8818820957285465",
                  "0.009516910034850362"
                ],
                [
                  "f28",
                  "4.200942781887259",
                  "0.009311149918749546"
                ],
                [
                  "f15",
                  "1.2215858240705806",
                  "0.008655684081572761"
                ],
                [
                  "f22",
                  "1.2570552026108397",
                  "0.006487486660619228"
                ],
                [
                  "f41",
                  "0.9629681942393831",
                  "0.005841915897528792"
                ],
                [
                  "f1",
                  "1.9722631515923679",
                  "0.00574362825381615"
                ],
                [
                  "f55",
                  "1.4235143321225494",
                  "0.005308870109187707"
                ],
                [
                  "f0",
                  "1.4332198605771678",
                  "0.003931674891117041"
                ],
                [
                  "f18",
                  "0.25907009655516894",
                  "0.00364126316994589"
                ]
              ],
              "shape": {
                "columns": 2,
                "rows": 20
              }
            },
            "text/html": [
              "<div>\n",
              "<style scoped>\n",
              "    .dataframe tbody tr th:only-of-type {\n",
              "        vertical-align: middle;\n",
              "    }\n",
              "\n",
              "    .dataframe tbody tr th {\n",
              "        vertical-align: top;\n",
              "    }\n",
              "\n",
              "    .dataframe thead th {\n",
              "        text-align: right;\n",
              "    }\n",
              "</style>\n",
              "<table border=\"1\" class=\"dataframe\">\n",
              "  <thead>\n",
              "    <tr style=\"text-align: right;\">\n",
              "      <th></th>\n",
              "      <th>Ridge</th>\n",
              "      <th>RandomForest</th>\n",
              "    </tr>\n",
              "  </thead>\n",
              "  <tbody>\n",
              "    <tr>\n",
              "      <th>f34</th>\n",
              "      <td>1.953644</td>\n",
              "      <td>0.284978</td>\n",
              "    </tr>\n",
              "    <tr>\n",
              "      <th>f27</th>\n",
              "      <td>1.951391</td>\n",
              "      <td>0.246150</td>\n",
              "    </tr>\n",
              "    <tr>\n",
              "      <th>f13</th>\n",
              "      <td>3.327814</td>\n",
              "      <td>0.091376</td>\n",
              "    </tr>\n",
              "    <tr>\n",
              "      <th>f20</th>\n",
              "      <td>2.091570</td>\n",
              "      <td>0.065531</td>\n",
              "    </tr>\n",
              "    <tr>\n",
              "      <th>f7</th>\n",
              "      <td>2.887093</td>\n",
              "      <td>0.055956</td>\n",
              "    </tr>\n",
              "    <tr>\n",
              "      <th>f6</th>\n",
              "      <td>0.954096</td>\n",
              "      <td>0.038428</td>\n",
              "    </tr>\n",
              "    <tr>\n",
              "      <th>f48</th>\n",
              "      <td>2.182388</td>\n",
              "      <td>0.035749</td>\n",
              "    </tr>\n",
              "    <tr>\n",
              "      <th>f44</th>\n",
              "      <td>5.665251</td>\n",
              "      <td>0.032921</td>\n",
              "    </tr>\n",
              "    <tr>\n",
              "      <th>f21</th>\n",
              "      <td>2.773150</td>\n",
              "      <td>0.023611</td>\n",
              "    </tr>\n",
              "    <tr>\n",
              "      <th>f51</th>\n",
              "      <td>1.288254</td>\n",
              "      <td>0.016684</td>\n",
              "    </tr>\n",
              "    <tr>\n",
              "      <th>f43</th>\n",
              "      <td>5.701496</td>\n",
              "      <td>0.014471</td>\n",
              "    </tr>\n",
              "    <tr>\n",
              "      <th>f45</th>\n",
              "      <td>2.881882</td>\n",
              "      <td>0.009517</td>\n",
              "    </tr>\n",
              "    <tr>\n",
              "      <th>f28</th>\n",
              "      <td>4.200943</td>\n",
              "      <td>0.009311</td>\n",
              "    </tr>\n",
              "    <tr>\n",
              "      <th>f15</th>\n",
              "      <td>1.221586</td>\n",
              "      <td>0.008656</td>\n",
              "    </tr>\n",
              "    <tr>\n",
              "      <th>f22</th>\n",
              "      <td>1.257055</td>\n",
              "      <td>0.006487</td>\n",
              "    </tr>\n",
              "    <tr>\n",
              "      <th>f41</th>\n",
              "      <td>0.962968</td>\n",
              "      <td>0.005842</td>\n",
              "    </tr>\n",
              "    <tr>\n",
              "      <th>f1</th>\n",
              "      <td>1.972263</td>\n",
              "      <td>0.005744</td>\n",
              "    </tr>\n",
              "    <tr>\n",
              "      <th>f55</th>\n",
              "      <td>1.423514</td>\n",
              "      <td>0.005309</td>\n",
              "    </tr>\n",
              "    <tr>\n",
              "      <th>f0</th>\n",
              "      <td>1.433220</td>\n",
              "      <td>0.003932</td>\n",
              "    </tr>\n",
              "    <tr>\n",
              "      <th>f18</th>\n",
              "      <td>0.259070</td>\n",
              "      <td>0.003641</td>\n",
              "    </tr>\n",
              "  </tbody>\n",
              "</table>\n",
              "</div>"
            ],
            "text/plain": [
              "        Ridge  RandomForest\n",
              "f34  1.953644      0.284978\n",
              "f27  1.951391      0.246150\n",
              "f13  3.327814      0.091376\n",
              "f20  2.091570      0.065531\n",
              "f7   2.887093      0.055956\n",
              "f6   0.954096      0.038428\n",
              "f48  2.182388      0.035749\n",
              "f44  5.665251      0.032921\n",
              "f21  2.773150      0.023611\n",
              "f51  1.288254      0.016684\n",
              "f43  5.701496      0.014471\n",
              "f45  2.881882      0.009517\n",
              "f28  4.200943      0.009311\n",
              "f15  1.221586      0.008656\n",
              "f22  1.257055      0.006487\n",
              "f41  0.962968      0.005842\n",
              "f1   1.972263      0.005744\n",
              "f55  1.423514      0.005309\n",
              "f0   1.433220      0.003932\n",
              "f18  0.259070      0.003641"
            ]
          },
          "metadata": {},
          "output_type": "display_data"
        },
        {
          "data": {
            "application/vnd.microsoft.datawrangler.viewer.v0+json": {
              "columns": [
                {
                  "name": "index",
                  "rawType": "object",
                  "type": "string"
                },
                {
                  "name": "Ridge",
                  "rawType": "float64",
                  "type": "float"
                },
                {
                  "name": "RandomForest",
                  "rawType": "float64",
                  "type": "float"
                }
              ],
              "conversionMethod": "pd.DataFrame",
              "ref": "f8355f87-78b5-4921-86ed-9ea5f7a5c24b",
              "rows": [
                [
                  "f43",
                  "5.701495831724511",
                  "0.014470771085892405"
                ],
                [
                  "f44",
                  "5.6652510611605305",
                  "0.032920626826082926"
                ],
                [
                  "f28",
                  "4.200942781887259",
                  "0.009311149918749546"
                ],
                [
                  "f24",
                  "4.0187216440159",
                  "0.0004275090229129587"
                ],
                [
                  "f9",
                  "3.335638258174364",
                  "0.0005128414736554998"
                ],
                [
                  "f13",
                  "3.3278135803230144",
                  "0.09137605806516819"
                ],
                [
                  "f50",
                  "3.152198019279904",
                  "0.0005767702207846317"
                ],
                [
                  "f2",
                  "2.940124810143951",
                  "0.002297230148204891"
                ],
                [
                  "f49",
                  "2.9132414477738937",
                  "0.0030785216505422814"
                ],
                [
                  "f7",
                  "2.8870929685153173",
                  "0.05595644620370801"
                ],
                [
                  "f45",
                  "2.8818820957285465",
                  "0.009516910034850362"
                ],
                [
                  "f21",
                  "2.7731499469402863",
                  "0.023611273334177195"
                ],
                [
                  "f36",
                  "2.385533002514801",
                  "0.0005639624779669365"
                ],
                [
                  "f42",
                  "2.3286094095690166",
                  "0.0017572825712219985"
                ],
                [
                  "f37",
                  "2.3001156951292403",
                  "0.00039146682118216793"
                ],
                [
                  "f31",
                  "2.261997058260416",
                  "0.0005306884531129654"
                ],
                [
                  "f48",
                  "2.1823877285196276",
                  "0.035749195093167416"
                ],
                [
                  "f20",
                  "2.0915699686454574",
                  "0.06553136408110591"
                ],
                [
                  "f29",
                  "1.9927452785829978",
                  "0.001561298660297558"
                ],
                [
                  "f1",
                  "1.9722631515923679",
                  "0.00574362825381615"
                ]
              ],
              "shape": {
                "columns": 2,
                "rows": 20
              }
            },
            "text/html": [
              "<div>\n",
              "<style scoped>\n",
              "    .dataframe tbody tr th:only-of-type {\n",
              "        vertical-align: middle;\n",
              "    }\n",
              "\n",
              "    .dataframe tbody tr th {\n",
              "        vertical-align: top;\n",
              "    }\n",
              "\n",
              "    .dataframe thead th {\n",
              "        text-align: right;\n",
              "    }\n",
              "</style>\n",
              "<table border=\"1\" class=\"dataframe\">\n",
              "  <thead>\n",
              "    <tr style=\"text-align: right;\">\n",
              "      <th></th>\n",
              "      <th>Ridge</th>\n",
              "      <th>RandomForest</th>\n",
              "    </tr>\n",
              "  </thead>\n",
              "  <tbody>\n",
              "    <tr>\n",
              "      <th>f43</th>\n",
              "      <td>5.701496</td>\n",
              "      <td>0.014471</td>\n",
              "    </tr>\n",
              "    <tr>\n",
              "      <th>f44</th>\n",
              "      <td>5.665251</td>\n",
              "      <td>0.032921</td>\n",
              "    </tr>\n",
              "    <tr>\n",
              "      <th>f28</th>\n",
              "      <td>4.200943</td>\n",
              "      <td>0.009311</td>\n",
              "    </tr>\n",
              "    <tr>\n",
              "      <th>f24</th>\n",
              "      <td>4.018722</td>\n",
              "      <td>0.000428</td>\n",
              "    </tr>\n",
              "    <tr>\n",
              "      <th>f9</th>\n",
              "      <td>3.335638</td>\n",
              "      <td>0.000513</td>\n",
              "    </tr>\n",
              "    <tr>\n",
              "      <th>f13</th>\n",
              "      <td>3.327814</td>\n",
              "      <td>0.091376</td>\n",
              "    </tr>\n",
              "    <tr>\n",
              "      <th>f50</th>\n",
              "      <td>3.152198</td>\n",
              "      <td>0.000577</td>\n",
              "    </tr>\n",
              "    <tr>\n",
              "      <th>f2</th>\n",
              "      <td>2.940125</td>\n",
              "      <td>0.002297</td>\n",
              "    </tr>\n",
              "    <tr>\n",
              "      <th>f49</th>\n",
              "      <td>2.913241</td>\n",
              "      <td>0.003079</td>\n",
              "    </tr>\n",
              "    <tr>\n",
              "      <th>f7</th>\n",
              "      <td>2.887093</td>\n",
              "      <td>0.055956</td>\n",
              "    </tr>\n",
              "    <tr>\n",
              "      <th>f45</th>\n",
              "      <td>2.881882</td>\n",
              "      <td>0.009517</td>\n",
              "    </tr>\n",
              "    <tr>\n",
              "      <th>f21</th>\n",
              "      <td>2.773150</td>\n",
              "      <td>0.023611</td>\n",
              "    </tr>\n",
              "    <tr>\n",
              "      <th>f36</th>\n",
              "      <td>2.385533</td>\n",
              "      <td>0.000564</td>\n",
              "    </tr>\n",
              "    <tr>\n",
              "      <th>f42</th>\n",
              "      <td>2.328609</td>\n",
              "      <td>0.001757</td>\n",
              "    </tr>\n",
              "    <tr>\n",
              "      <th>f37</th>\n",
              "      <td>2.300116</td>\n",
              "      <td>0.000391</td>\n",
              "    </tr>\n",
              "    <tr>\n",
              "      <th>f31</th>\n",
              "      <td>2.261997</td>\n",
              "      <td>0.000531</td>\n",
              "    </tr>\n",
              "    <tr>\n",
              "      <th>f48</th>\n",
              "      <td>2.182388</td>\n",
              "      <td>0.035749</td>\n",
              "    </tr>\n",
              "    <tr>\n",
              "      <th>f20</th>\n",
              "      <td>2.091570</td>\n",
              "      <td>0.065531</td>\n",
              "    </tr>\n",
              "    <tr>\n",
              "      <th>f29</th>\n",
              "      <td>1.992745</td>\n",
              "      <td>0.001561</td>\n",
              "    </tr>\n",
              "    <tr>\n",
              "      <th>f1</th>\n",
              "      <td>1.972263</td>\n",
              "      <td>0.005744</td>\n",
              "    </tr>\n",
              "  </tbody>\n",
              "</table>\n",
              "</div>"
            ],
            "text/plain": [
              "        Ridge  RandomForest\n",
              "f43  5.701496      0.014471\n",
              "f44  5.665251      0.032921\n",
              "f28  4.200943      0.009311\n",
              "f24  4.018722      0.000428\n",
              "f9   3.335638      0.000513\n",
              "f13  3.327814      0.091376\n",
              "f50  3.152198      0.000577\n",
              "f2   2.940125      0.002297\n",
              "f49  2.913241      0.003079\n",
              "f7   2.887093      0.055956\n",
              "f45  2.881882      0.009517\n",
              "f21  2.773150      0.023611\n",
              "f36  2.385533      0.000564\n",
              "f42  2.328609      0.001757\n",
              "f37  2.300116      0.000391\n",
              "f31  2.261997      0.000531\n",
              "f48  2.182388      0.035749\n",
              "f20  2.091570      0.065531\n",
              "f29  1.992745      0.001561\n",
              "f1   1.972263      0.005744"
            ]
          },
          "metadata": {},
          "output_type": "display_data"
        }
      ],
      "source": [
        "# 4. Feature importances\n",
        "\n",
        "importances = {}\n",
        "X_feat = feat_extractor.fit_transform(X_windows)\n",
        "for name, model in models.items():\n",
        "    pipe = Pipeline([('feat', feat_extractor), ('scaler', StandardScaler()), ('model', model)])\n",
        "    pipe.fit(X_windows, y_windows)\n",
        "    m = pipe.named_steps['model']\n",
        "    if hasattr(m, 'coef_'):\n",
        "        # Ridge multi-sortie : moyenne des |coefficients|\n",
        "        importances[name] = np.mean(np.abs(m.coef_), axis=0)\n",
        "    else:\n",
        "        importances[name] = m.feature_importances_\n",
        "\n",
        "df_imp = pd.DataFrame(importances, index=[f\"f{i}\" for i in range(X_feat.shape[1])])\n",
        "display(df_imp.sort_values('RandomForest', ascending=False).head(20))  # top 10 RF\n",
        "display(df_imp.sort_values('Ridge', ascending=False).head(20))         # top 10 Ridge\n"
      ]
    },
    {
      "cell_type": "code",
      "execution_count": 72,
      "metadata": {
        "id": "9RtxGVLDB-2d"
      },
      "outputs": [],
      "source": [
        "# 5. Sélection de features avec RFECV (optimisation du RMSE)\n",
        "\n",
        "from sklearn.feature_selection import RFECV\n",
        "from sklearn.pipeline import Pipeline\n",
        "from sklearn.preprocessing import StandardScaler\n",
        "import pandas as pd\n",
        "\n",
        "def perform_feature_selection(models, feat_extractor, X_windows, y_windows, logo):\n",
        "    \"\"\"\n",
        "    Effectue une sélection de features avec RFECV pour chaque modèle.\n",
        "    \n",
        "    Args:\n",
        "        models (dict): Dictionnaire de modèles à évaluer\n",
        "        feat_extractor: Transformateur pour l'extraction de features\n",
        "        X_windows (pd.DataFrame): Features\n",
        "        y_windows (pd.Series): Target\n",
        "        logo: Stratégie de validation croisée Leave-One-Group-Out\n",
        "    \n",
        "    Returns:\n",
        "        tuple: (selectors, optimal_counts, df_sel)\n",
        "    \"\"\"\n",
        "    optimal_counts = {}\n",
        "    selectors = {}\n",
        "\n",
        "    for name, model in models.items():\n",
        "        # Création du sélecteur RFECV\n",
        "        sel = RFECV(\n",
        "            estimator=model,\n",
        "            cv=logo,\n",
        "            scoring='neg_root_mean_squared_error',\n",
        "            n_jobs=-1\n",
        "        )\n",
        "        \n",
        "        # Pipeline complet\n",
        "        pipe = Pipeline([\n",
        "            ('feat', feat_extractor),\n",
        "            ('scaler', StandardScaler()),\n",
        "            ('select', sel),\n",
        "            ('model', model)\n",
        "        ])\n",
        "        \n",
        "        # Entraînement du pipeline\n",
        "        pipe.fit(X_windows, y_windows)\n",
        "        \n",
        "        # Sauvegarde des résultats\n",
        "        selectors[name] = sel\n",
        "        optimal_counts[name] = sel.n_features_\n",
        "\n",
        "    # Création du dataframe des résultats\n",
        "    df_sel = pd.DataFrame.from_dict(\n",
        "        optimal_counts, \n",
        "        orient='index', \n",
        "        columns=['n_features_opt']\n",
        "    )\n",
        "    \n",
        "    return selectors, optimal_counts, df_sel\n",
        "\n",
        "# Exemple d'utilisation\n",
        "# selectors, optimal_counts, df_sel = perform_feature_selection(models, feat_extractor, X_windows, y_windows, logo)\n",
        "# display(df_sel)"
      ]
    },
    {
      "cell_type": "code",
      "execution_count": 73,
      "metadata": {
        "id": "K4_pysYXCAmz"
      },
      "outputs": [],
      "source": [
        "# 6. Pipeline final - Sélection et évaluation du meilleur modèle\n",
        "\n",
        "def build_final_pipeline(models, cv_scores, selectors, optimal_counts, feat_extractor):\n",
        "    \"\"\"\n",
        "    Construit et retourne le pipeline final avec le meilleur modèle sélectionné.\n",
        "    \n",
        "    Args:\n",
        "        models (dict): Dictionnaire des modèles évalués\n",
        "        cv_scores (dict): Scores de validation croisée pour chaque modèle\n",
        "        selectors (dict): Sélecteurs RFECV pour chaque modèle\n",
        "        optimal_counts (dict): Nombre optimal de features pour chaque modèle\n",
        "        feat_extractor: Transformateur pour l'extraction de features\n",
        "    \n",
        "    Returns:\n",
        "        tuple: (final_pipe, best_model_name, best_rmse, optimal_feature_count)\n",
        "    \"\"\"\n",
        "    # Calcul du RMSE moyen pour chaque modèle\n",
        "    mean_rmse = {model_name: scores.mean() for model_name, scores in cv_scores.items()}\n",
        "    \n",
        "    # Sélection du meilleur modèle (RMSE le plus bas)\n",
        "    best_model_name = min(mean_rmse, key=mean_rmse.get)\n",
        "    \n",
        "    # Construction du pipeline final\n",
        "    final_pipe = Pipeline([\n",
        "        ('feat', feat_extractor),\n",
        "        ('scaler', StandardScaler()),\n",
        "        ('select', selectors[best_model_name]),\n",
        "        ('model', models[best_model_name])\n",
        "    ])\n",
        "    \n",
        "    # Affichage des résultats\n",
        "    print(f\"Modèle retenu : {best_model_name}\")\n",
        "    print(f\"RMSE moyen (baseline) : {mean_rmse[best_model_name]:.3f}\")\n",
        "    print(f\"Nombre optimal de features : {optimal_counts[best_model_name]}\")\n",
        "    \n",
        "    return final_pipe, best_model_name, mean_rmse[best_model_name], optimal_counts[best_model_name]\n",
        "\n",
        "# Exemple d'utilisation :\n",
        "# final_pipe, best_model, best_rmse, optimal_feats = build_final_pipeline(\n",
        "#     models, cv_scores, selectors, optimal_counts, feat_extractor\n",
        "# )"
      ]
    },
    {
      "cell_type": "markdown",
      "metadata": {
        "id": "M2liGbwjsDUX"
      },
      "source": [
        " ## 5 ) Implementation of a regression model based on the covariance matrices pipeline  and a neural network approach using the PyTorch library"
      ]
    },
    {
      "cell_type": "code",
      "execution_count": 74,
      "metadata": {
        "colab": {
          "base_uri": "https://localhost:8080/"
        },
        "id": "yidW6jXv_jBm",
        "outputId": "74a64330-d75c-4af3-ff22-d308eb8bf503"
      },
      "outputs": [
        {
          "name": "stdout",
          "output_type": "stream",
          "text": [
            " Guided first session features dataset shape:\n",
            "\n",
            "(1837, 8, 500)\n",
            " Guided first session target dataset shape:\n",
            "\n",
            "(1837, 51)\n"
          ]
        }
      ],
      "source": [
        "# Extract the first session dataset and put it to the (window, electrode, time) shape for features dataset and (window,target) shape for the target dataset.\n",
        "X_0 =  X_guided_augmented[0].swapaxes(0, 1)\n",
        "y_0 = Y_guided_slided[0].swapaxes(0, 1).reshape(len(X_0),51)\n",
        "# Visualize shapes\n",
        "print(\" Guided first session features dataset shape:\\n\")\n",
        "print(X_0.shape)\n",
        "print(\" Guided first session target dataset shape:\\n\")\n",
        "print(y_0.shape)"
      ]
    },
    {
      "cell_type": "code",
      "execution_count": 75,
      "metadata": {
        "colab": {
          "base_uri": "https://localhost:8080/"
        },
        "id": "4t2kDgaU_oVV",
        "outputId": "bb15fb73-c354-4d9d-a577-b87f0ced7433"
      },
      "outputs": [
        {
          "name": "stdout",
          "output_type": "stream",
          "text": [
            " Guided features dataset shape:\n",
            "\n",
            "(9185, 8, 500)\n",
            " Guided target dataset shape:\n",
            "\n",
            "(9185, 51)\n"
          ]
        }
      ],
      "source": [
        "# Put the concatenated guided dataset to the (window, electrode, time) shape for features dataset and (window,target) shape for the target dataset.\n",
        "\n",
        "X_guided=X_guided_augmented.swapaxes(1, 2)\n",
        "\n",
        "NewX_guided=X_guided.reshape(X_guided.shape[0]*X_guided.shape[1],8,500)\n",
        "\n",
        "Y_guided=Y_guided_slided.swapaxes(1, 2)\n",
        "\n",
        "NewY_guided=Y_guided.reshape(Y_guided.shape[0]*Y_guided.shape[1],51)\n",
        "\n",
        "# Visualize new shapes\n",
        "print(\" Guided features dataset shape:\\n\")\n",
        "print(NewX_guided.shape)\n",
        "print(\" Guided target dataset shape:\\n\")\n",
        "print(NewY_guided.shape)"
      ]
    },
    {
      "cell_type": "code",
      "execution_count": 76,
      "metadata": {
        "colab": {
          "base_uri": "https://localhost:8080/"
        },
        "id": "bnnB9g9V_w9G",
        "outputId": "5fae5222-0856-4dd0-c682-66bfd7560ebd"
      },
      "outputs": [
        {
          "name": "stdout",
          "output_type": "stream",
          "text": [
            " Free moves features dataset shape:\n",
            "\n",
            "(10785, 8, 500)\n",
            " Free moves target dataset shape:\n",
            "\n",
            "(10785, 51)\n"
          ]
        }
      ],
      "source": [
        "# Put the concatenated free moves dataset to the (window, electrode, time) shape for features dataset and (window,target) shape for the target dataset.\n",
        "\n",
        "X_freemoves=X_freemoves_augmented.swapaxes(1, 2)\n",
        "\n",
        "NewX_freemoves=X_freemoves.reshape(X_freemoves.shape[0]*X_freemoves.shape[1],8,500)\n",
        "\n",
        "Y_freemoves=Y_freemoves_slided.swapaxes(1, 2)\n",
        "\n",
        "NewY_freemoves=Y_freemoves.reshape(Y_freemoves.shape[0]*Y_freemoves.shape[1],51)\n",
        "# Visualize new shapes\n",
        "print(\" Free moves features dataset shape:\\n\")\n",
        "print(NewX_freemoves.shape)\n",
        "\n",
        "print(\" Free moves target dataset shape:\\n\")\n",
        "print(NewY_freemoves.shape)\n"
      ]
    },
    {
      "cell_type": "markdown",
      "metadata": {
        "id": "Hr7Q9EkR5iwV"
      },
      "source": [
        "### 2°) Implementation of a regression model based on the covariance matrices pipeline"
      ]
    },
    {
      "cell_type": "markdown",
      "metadata": {
        "id": "4ruEgzSo55T9"
      },
      "source": [
        "#### a) Support Vector Regression (SVR)  models"
      ]
    },
    {
      "cell_type": "markdown",
      "metadata": {
        "id": "P0egtMno6NCm"
      },
      "source": [
        "The algorithm applied here is :\n",
        "\n",
        "**Input** : Training dataset D, the kernel function type.\n",
        "\n",
        "**Output**: models $h_{i} , i = 1,..., m$.\n",
        "\n",
        "&nbsp;&nbsp;*Build m SVR Models*\n",
        "\n",
        "1:&nbsp;&nbsp; **for i = 1 to m do**\n",
        "\n",
        "&nbsp;&nbsp;&nbsp;&nbsp;*Create the CV training $D^{(k−j)}$ and test $D^{(j)}$ sets*\n",
        "    \n",
        "2: &nbsp;&nbsp;&nbsp;&nbsp;    **for j = 1 to k do**\n",
        "\n",
        "\n",
        "&nbsp;&nbsp;&nbsp;&nbsp;&nbsp;&nbsp;&nbsp;&nbsp;&nbsp;&nbsp; $D^{(k-j)} = \\{(x^{k-j} , y_i^{k-j})\\}$\n",
        "    \n",
        "&nbsp;&nbsp;&nbsp;&nbsp;&nbsp;&nbsp;&nbsp;&nbsp;&nbsp;&nbsp; $D^{(j)}=\\{(x^{j} , y{_i}^{j})\\}$}\n",
        "   \n",
        "&nbsp;&nbsp;&nbsp;&nbsp;&nbsp;&nbsp;&nbsp;&nbsp;&nbsp;&nbsp;*Train the $j^{th}$ model on the training set $D^{(k−j)}$*\n",
        "      \n",
        "&nbsp;&nbsp;&nbsp;&nbsp;&nbsp;&nbsp;&nbsp;&nbsp;&nbsp;&nbsp; $h_{i}^{(k-j)} : D^{(k-j)} \\Longrightarrow \\mathbb{R}$\n",
        "\n",
        "&nbsp;&nbsp;&nbsp;&nbsp;&nbsp;&nbsp;&nbsp;&nbsp;&nbsp;&nbsp;*Test the $j^{th}$ model on the test set $D^{(j)}$*\n",
        "      \n",
        "&nbsp;&nbsp;&nbsp;&nbsp;&nbsp;&nbsp;&nbsp;&nbsp;&nbsp;&nbsp; $\\hat{Y_{i}} = h_{i}(X^{(j)})$\n",
        "\n",
        "&nbsp;&nbsp;&nbsp;&nbsp;    **end for**\n",
        "\n",
        "&nbsp;&nbsp;*Calculate CV RMSE error for the $i^{th}$ model*\n",
        "\n",
        "&nbsp;&nbsp;*Select the $i^{th}$ best model based on the CV RMSE error by varying parameters*\n",
        "\n",
        "&nbsp;&nbsp;*Store the $i^{th}$ best model and the associated RMSE error*\n",
        "\n",
        "&nbsp;&nbsp;   **end for**\n",
        "\n",
        "**return** $h_i, i = 1,..., m$\n",
        "\n",
        "\n",
        "SVR models are built using a pipeline in the tangent space."
      ]
    },
    {
      "cell_type": "code",
      "execution_count": 77,
      "metadata": {
        "id": "Cvv4fCcL9Gdl"
      },
      "outputs": [],
      "source": [
        "#Define the SVR best model function\n",
        "def SVR_best_model(kernel,X,y):\n",
        "    \"\"\"\n",
        "    This function performs the SVR models training and select the best models relying to the lowest RMSE. Input: X, y and kernel. Output: n=y.shape[1] best models.\n",
        "    Inner parameters: C, gamma and degree in case of polynomial kernel.\n",
        "    \"\"\"\n",
        "    #Define C and gamma values\n",
        "    Gamma = [\"scale\",\"auto\", 0.001, 0.1, 1,10]\n",
        "    C = [1, 10, 100]\n",
        "    #Initiliaze the KFold function\n",
        "    kf = KFold(n_splits=5)\n",
        "    #Initiliaze the best models and associated RMSE lists\n",
        "    BestModels=[]\n",
        "    RMSES=[]\n",
        "    # Perform the CV. Loop on the number of targets\n",
        "    for i in range (len(y[0])):\n",
        "        # Bestmodel SVR pipeline and  associated RMSE initialization\n",
        "        Bestmodel_RMSE=float('inf')\n",
        "        BestModel=Pipeline([('cov', Covariances()),\n",
        "                            ('ts',TangentSpace()),\n",
        "                            ('svr', SVR())])\n",
        "        # Select the ith target\n",
        "        Y=y[:,i]\n",
        "         # Loop on inner parameters C and gamma values\n",
        "        for c in C:\n",
        "            for gamma in Gamma:\n",
        "\n",
        "                if kernel == 'poly':\n",
        "                    # Loop on inner parameter degree values\n",
        "                    for degree in [2,3,4,5,6,7]:\n",
        "                       # Update the inner parameters in tangent space\n",
        "                        clf_svr = Pipeline([\n",
        "                            ('cov', Covariances()),\n",
        "                            ('ts',TangentSpace()),\n",
        "                            ('svr', SVR(gamma=gamma,C= c , kernel=kernel,degree=degree))\n",
        "\n",
        "                            ]\n",
        "                            )\n",
        "\n",
        "                        RMSE_val=[]\n",
        "                        NMSE_val=[]\n",
        "                       # Split the dataset in CV train and validation sets. Train and valid models. Compute the cross-validation RMSE\n",
        "                        for j, (train_index, val_index) in enumerate(kf.split(X,Y)):\n",
        "\n",
        "                            x_train_per_fold, x_val_per_fold = X[train_index],X[val_index]\n",
        "                            y_train_per_fold, y_val_per_fold = Y[train_index], Y[val_index]\n",
        "\n",
        "                            clf_svr.fit(x_train_per_fold, y_train_per_fold)\n",
        "\n",
        "                            val_predicts = clf_svr.predict(x_val_per_fold)\n",
        "\n",
        "                            rmse_val=np.sqrt(np.mean((y_val_per_fold-val_predicts)**2))\n",
        "                            RMSE_val.append(rmse_val)\n",
        "\n",
        "                        # Select the best model for each target based on the RMSE\n",
        "                        if np.mean(RMSE_val)>Bestmodel_RMSE:\n",
        "                            continue\n",
        "\n",
        "                        else:\n",
        "                            BestModel=clf_svr\n",
        "                            Bestmodel_RMSE=np.mean(RMSE_val)\n",
        "                else:\n",
        "                    # Perform CV for kernels other than polynomial kernel\n",
        "                    # Update the inner parameters in tangent space\n",
        "                    clf_svr = Pipeline([\n",
        "                        ('cov', Covariances()),\n",
        "                        ('ts',TangentSpace()),\n",
        "                        ('svr', SVR(gamma=gamma,C= c, kernel=kernel))\n",
        "\n",
        "                        ]\n",
        "                        )\n",
        "\n",
        "\n",
        "                    RMSE_val=[]\n",
        "                 # Split the dataset in CV train and validation sets. Traine and valide models. Compute the CV RMSE\n",
        "                    for j, (train_index, val_index) in enumerate(kf.split(X,Y)):\n",
        "\n",
        "                        x_train_per_fold, x_val_per_fold = X[train_index],X[val_index]\n",
        "                        y_train_per_fold, y_val_per_fold = Y[train_index], Y[val_index]\n",
        "\n",
        "                        clf_svr.fit(x_train_per_fold, y_train_per_fold)\n",
        "\n",
        "                        val_predicts = clf_svr.predict(x_val_per_fold)\n",
        "\n",
        "                        rmse_val=np.sqrt(np.mean((y_val_per_fold-val_predicts)**2))\n",
        "                        RMSE_val.append(rmse_val)\n",
        "                 # Select the best model for each target based on the RMSE\n",
        "                    if np.mean(RMSE_val)>Bestmodel_RMSE:\n",
        "                        continue\n",
        "                    else:\n",
        "                        BestModel=clf_svr\n",
        "                        Bestmodel_RMSE=np.mean(RMSE_val)\n",
        "        BestModels.append(BestModel)\n",
        "        RMSES.append(Bestmodel_RMSE)\n",
        "\n",
        "    print(\"End of the process!\")\n",
        "    return BestModels,RMSES\n"
      ]
    },
    {
      "cell_type": "code",
      "execution_count": 78,
      "metadata": {
        "id": "bl4SkIPj9ZwY"
      },
      "outputs": [],
      "source": [
        "# Define the predict function\n",
        "def predict(bestmodels,Xtest):\n",
        "    \"\"\"\n",
        "    This function performs multi-target predictions on features dataset. Input: list of best models and the features dataset.\n",
        "    \"\"\"\n",
        "    predicts=[]\n",
        "    # Loop on best models. Multi-target predictions\n",
        "    for bestmodel in bestmodels:\n",
        "        predicts.append(bestmodel.predict(Xtest))\n",
        "\n",
        "    return predicts"
      ]
    },
    {
      "cell_type": "code",
      "execution_count": 79,
      "metadata": {
        "id": "rH_bVfHI8i3s"
      },
      "outputs": [],
      "source": [
        "#Define the SVR best model function\n",
        "def RIDGE_best_model(X,y):\n",
        "\n",
        "    #Initiliaze the KFold function\n",
        "    kf = KFold(n_splits=5)\n",
        "    #Initiliaze the best models and associated RMSE lists\n",
        "    BestModels=[]\n",
        "    RMSES=[]\n",
        "\n",
        "    # Perform the CV. Loop on the number of targets\n",
        "    for i in range (len(y[0])):\n",
        "        # Bestmodel Ridge pipeline and  associated RMSE initialization\n",
        "        Bestmodel_RMSE=float('inf')\n",
        "        BestModel=Pipeline([\n",
        "                          ('cov', Covariances()),\n",
        "                          ('ts',TangentSpace()),\n",
        "                          ('rr', Ridge())\n",
        "                          ]\n",
        "                          )\n",
        "         # Select the ith target\n",
        "        Y=y[:,i]\n",
        "        # Loop on the inner parameters solver and alpha values\n",
        "        for solver in ['auto', 'svd', 'cholesky', 'lsqr', 'sparse_cg', 'sag', 'saga']:\n",
        "            for alpha in [0.1,0.5,1.0,5.0,10.0]:\n",
        "                clf_rr = Pipeline([\n",
        "                            ('cov', Covariances()),\n",
        "                            ('ts',TangentSpace()),\n",
        "                            ('svr', Ridge(solver=solver,alpha=alpha))\n",
        "\n",
        "                            ]\n",
        "                            )\n",
        "                RMSE_val=[]\n",
        "                # Split the dataset in CV train and validation sets. Train and valid models. Compute the cross-validation RMSE\n",
        "                for j, (train_index, val_index) in enumerate(kf.split(X,Y)):\n",
        "                    x_train_per_fold, x_val_per_fold = X[train_index],X[val_index]\n",
        "                    y_train_per_fold, y_val_per_fold = Y[train_index], Y[val_index]\n",
        "\n",
        "                    clf_rr.fit(x_train_per_fold, y_train_per_fold)\n",
        "\n",
        "                    val_predicts = clf_rr.predict(x_val_per_fold)\n",
        "\n",
        "                    rmse_val=np.sqrt(np.mean((y_val_per_fold-val_predicts)**2))\n",
        "                    RMSE_val.append(rmse_val)\n",
        "                 # Select the best model for each target based on the RMSE\n",
        "                 # Update the inner parameters in tangent space\n",
        "                if np.mean(RMSE_val)>Bestmodel_RMSE:\n",
        "                    continue\n",
        "                else:\n",
        "                    BestModel=clf_rr\n",
        "                    Bestmodel_RMSE=np.mean(RMSE_val)\n",
        "\n",
        "        BestModels.append(BestModel)\n",
        "        RMSES.append(Bestmodel_RMSE)\n",
        "\n",
        "    print(\"End of the process!\")\n",
        "    return BestModels,RMSES"
      ]
    },
    {
      "cell_type": "code",
      "execution_count": 80,
      "metadata": {
        "id": "qE_dMGOI82tH"
      },
      "outputs": [],
      "source": [
        "# Define the predict function\n",
        "def predict(bestmodels,Xtest):\n",
        "    predicts=[]\n",
        "     # Loop on best models. Multi-target predictions\n",
        "    for bestmodel in bestmodels:\n",
        "        predicts.append(bestmodel.predict(Xtest))\n",
        "\n",
        "    return predicts"
      ]
    },
    {
      "cell_type": "markdown",
      "metadata": {
        "id": "7FG2HwDoBsZD"
      },
      "source": [
        "# 6) Design and implement two ensembling strategies that combine the predictions of all individual regression models you implemented, each independently trained on distinct feature representations of the EMG signals."
      ]
    },
    {
      "cell_type": "markdown",
      "metadata": {
        "id": "1M3inpkpCjoO"
      },
      "source": [
        "A) Compute the average of the predicted values, such that the final prediction is given by\n",
        "\n",
        "$$\n",
        "\\hat{y}_{\\text{ensemble}} = \\frac{1}{M} \\sum_{m=1}^{M} \\hat{y}_m\n",
        "$$\n",
        "\n",
        "where $\\hat{y}_m$ denotes the prediction of the $m$-th model out of $M$ total models.\n"
      ]
    }
  ],
  "metadata": {
    "colab": {
      "provenance": []
    },
    "kernelspec": {
      "display_name": "sfml",
      "language": "python",
      "name": "python3"
    },
    "language_info": {
      "codemirror_mode": {
        "name": "ipython",
        "version": 3
      },
      "file_extension": ".py",
      "mimetype": "text/x-python",
      "name": "python",
      "nbconvert_exporter": "python",
      "pygments_lexer": "ipython3",
      "version": "3.12.9"
    }
  },
  "nbformat": 4,
  "nbformat_minor": 0
}
